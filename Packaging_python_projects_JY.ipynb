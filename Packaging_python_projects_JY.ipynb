{
 "cells": [
  {
   "cell_type": "markdown",
   "metadata": {},
   "source": [
    "If in need of troubleshooting getting this notebook:"
   ]
  },
  {
   "cell_type": "code",
   "execution_count": 1,
   "metadata": {},
   "outputs": [
    {
     "data": {
      "text/plain": [
       "'/Users/yesji/test_project_folder/project_spring_2020'"
      ]
     },
     "execution_count": 1,
     "metadata": {},
     "output_type": "execute_result"
    }
   ],
   "source": [
    "%pwd # created a new test folder because there was some issue with my spring_2020 folder "
   ]
  },
  {
   "cell_type": "markdown",
   "metadata": {},
   "source": [
    "<!--NAVIGATION-->\n",
    " [Week 4](../2020-03-05/04_python_intro.ipynb) "
   ]
  },
  {
   "cell_type": "markdown",
   "metadata": {},
   "source": [
    "# Packaging with python"
   ]
  },
  {
   "cell_type": "markdown",
   "metadata": {},
   "source": [
    "This lesson draws heavily on the [python guide to packaging](https://packaging.python.org/tutorials/packaging-projects/).\n",
    "\n"
   ]
  },
  {
   "cell_type": "markdown",
   "metadata": {},
   "source": [
    "#### A very basic setup"
   ]
  },
  {
   "cell_type": "code",
   "execution_count": 2,
   "metadata": {},
   "outputs": [],
   "source": [
    "package_name = \"Jeans_Package\""
   ]
  },
  {
   "cell_type": "code",
   "execution_count": 3,
   "metadata": {},
   "outputs": [],
   "source": [
    "%mv project_spring_2020/ {package_name}"
   ]
  },
  {
   "cell_type": "code",
   "execution_count": 4,
   "metadata": {},
   "outputs": [],
   "source": [
    "from pathlib import Path\n",
    "\n",
    "python_dir = Path(package_name)\n",
    "(python_dir / '__init__.py').touch()\n",
    "Path('setup.py').touch()\n",
    "Path('LICENSE').touch()\n",
    "Path('README.md').touch()"
   ]
  },
  {
   "cell_type": "markdown",
   "metadata": {},
   "source": [
    "#### Adding metadata and installation details"
   ]
  },
  {
   "cell_type": "markdown",
   "metadata": {},
   "source": [
    "We now have many of the files that should be in a basic package. Let's start to generate some of the details.\n",
    "\n",
    "You can edit the following as you see fit. This setup.py file does the work for describing how your package is installed and telling users some of the details about package:"
   ]
  },
  {
   "cell_type": "code",
   "execution_count": null,
   "metadata": {},
   "outputs": [],
   "source": [
    "%%writefile setup.py\n",
    "import setuptools\n",
    "\n",
    "with open(\"README.md\", \"r\") as fh:\n",
    "    long_description = fh.read()\n",
    "\n",
    "setuptools.setup(\n",
    "    name=\"Jeans_Package\", \n",
    "    version=\"0.0.1\",\n",
    "    author=\"JY\",\n",
    "    author_email=\"abc@example.com\",\n",
    "    description=\"A small example package\",\n",
    "    long_description=long_description,\n",
    "    long_description_content_type=\"text/markdown\",\n",
    "    url=\"https://github.com/pypa/packaging_demo\",\n",
    "    packages=setuptools.find_packages(),\n",
    "    classifiers=[\n",
    "        \"Programming Language :: Python :: 3\",\n",
    "        \"License :: OSI Approved :: MIT License\",\n",
    "        \"Operating System :: OS Independent\",\n",
    "    ],\n",
    "    python_requires='>=3.6',\n",
    "\n",
    ")"
   ]
  },
  {
   "cell_type": "markdown",
   "metadata": {},
   "source": [
    "#### Describing our project to potential users"
   ]
  },
  {
   "cell_type": "markdown",
   "metadata": {},
   "source": [
    "\n",
    "We should also always have a readme file to help our users to orient themselves. Since we would often use github to distribute our code, markdown is a sensible file format for this:"
   ]
  },
  {
   "cell_type": "code",
   "execution_count": null,
   "metadata": {},
   "outputs": [],
   "source": [
    "%%writefile README.md\n",
    "# Example Package\n",
    "\n",
    "This is a simple example package. You can use\n",
    "[Github-flavored Markdown](https://guides.github.com/features/mastering-markdown/)\n",
    "to write your content."
   ]
  },
  {
   "cell_type": "markdown",
   "metadata": {},
   "source": [
    "#### Letting others use our code"
   ]
  },
  {
   "cell_type": "markdown",
   "metadata": {},
   "source": [
    "You should always [choose a licence](https://choosealicense.com) to include with your code. It helps others to determine how they can use your code. Without a licence, most people simply cannot use your code based on their organizations regulations."
   ]
  },
  {
   "cell_type": "code",
   "execution_count": null,
   "metadata": {},
   "outputs": [],
   "source": [
    "%%writefile LICENSE\n",
    "Copyright (c) 2018 The Python Packaging Authority\n",
    "\n",
    "Permission is hereby granted, free of charge, to any person obtaining a copy\n",
    "of this software and associated documentation files (the \"Software\"), to deal\n",
    "in the Software without restriction, including without limitation the rights\n",
    "to use, copy, modify, merge, publish, distribute, sublicense, and/or sell\n",
    "copies of the Software, and to permit persons to whom the Software is\n",
    "furnished to do so, subject to the following conditions:\n",
    "\n",
    "The above copyright notice and this permission notice shall be included in all\n",
    "copies or substantial portions of the Software.\n",
    "\n",
    "THE SOFTWARE IS PROVIDED \"AS IS\", WITHOUT WARRANTY OF ANY KIND, EXPRESS OR\n",
    "IMPLIED, INCLUDING BUT NOT LIMITED TO THE WARRANTIES OF MERCHANTABILITY,\n",
    "FITNESS FOR A PARTICULAR PURPOSE AND NONINFRINGEMENT. IN NO EVENT SHALL THE\n",
    "AUTHORS OR COPYRIGHT HOLDERS BE LIABLE FOR ANY CLAIM, DAMAGES OR OTHER\n",
    "LIABILITY, WHETHER IN AN ACTION OF CONTRACT, TORT OR OTHERWISE, ARISING FROM,\n",
    "OUT OF OR IN CONNECTION WITH THE SOFTWARE OR THE USE OR OTHER DEALINGS IN THE\n",
    "SOFTWARE."
   ]
  },
  {
   "cell_type": "code",
   "execution_count": 289,
   "metadata": {},
   "outputs": [],
   "source": [
    "# Please make sure to run the script below in the project_spring_2020 folder!"
   ]
  },
  {
   "cell_type": "code",
   "execution_count": 304,
   "metadata": {},
   "outputs": [
    {
     "name": "stdout",
     "output_type": "stream",
     "text": [
      "Overwriting Jeans_Package/compute_motion_displacement.py\n"
     ]
    }
   ],
   "source": [
    "%%writefile Jeans_Package/compute_motion_displacement.py\n",
    "import pandas as pd\n",
    "import numpy as np \n",
    "from os import mkdir, chdir, getcwd, path, remove\n",
    "\n",
    "def move_into_directory(participant):\n",
    "    \"\"\"Move into the directory where each participant's motion file is saved\"\"\"\n",
    "    path = \"Motion_files/\" + participant\n",
    "    chdir(path)\n",
    "    \n",
    "def set_motion_file():\n",
    "    \"\"\"Check to make sure motion file exist and set motion file\"\"\"\n",
    "    if path.isfile('rp_s_full.txt'):\n",
    "        column_names = ['roll', 'pitch', 'yaw', 'z', 'x', 'y']\n",
    "        file = pd.read_csv('rp_s_full.txt', names = column_names, delim_whitespace = True)\n",
    "        df = pd.DataFrame(file, columns = column_names)\n",
    "    else:\n",
    "        print(\"no motion file found!\")\n",
    "    return df \n",
    "\n",
    "def compute_mean_for_each_column(motion_dataframe):\n",
    "    \"\"\"Compute means for each of the six motion parameters\"\"\"\n",
    "    means = []\n",
    "    for i in range(6):\n",
    "        mean = motion_dataframe.iloc[:,i].mean()\n",
    "        means.append(mean)\n",
    "    np.savetxt('Mean_of_Each_Motion_Parameters', X = means)\n",
    "    return means\n",
    "\n",
    "def compute_mean_of_all_columns(means_separated):\n",
    "    \"\"\"Compute the mean of the six motion parameter averages\"\"\"\n",
    "    column_means = sum(means_separated)/6\n",
    "    np.savetxt('Mean_of_All_Motion_Parameters', X = [column_means])\n",
    "    return column_means\n",
    "\n",
    "def main(participant):\n",
    "    basedir = '/Users/yesji/test_project_folder/project_spring_2020'\n",
    "    chdir(basedir)\n",
    "    move_into_directory(participant)\n",
    "    motion_dataframe = set_motion_file()\n",
    "    means_separated = compute_mean_for_each_column(motion_dataframe)\n",
    "    column_means = compute_mean_of_all_columns(means_separated)"
   ]
  },
  {
   "cell_type": "code",
   "execution_count": 296,
   "metadata": {},
   "outputs": [],
   "source": [
    "chdir('/Users/yesji/test_project_folder/project_spring_2020')\n",
    "\n",
    "participant_list = []\n",
    "list_file = open(\"Participant_List.txt\",'r')\n",
    "for line in list_file.readlines():\n",
    "    participant_list.append(line.split()[0])\n",
    "#print(participant_list)\n",
    "    \n",
    "for participant in participant_list:\n",
    "    main(participant)"
   ]
  },
  {
   "cell_type": "code",
   "execution_count": 298,
   "metadata": {},
   "outputs": [
    {
     "name": "stdout",
     "output_type": "stream",
     "text": [
      "/Users/yesji/test_project_folder/project_spring_2020\n"
     ]
    }
   ],
   "source": [
    "%cd ../.."
   ]
  },
  {
   "cell_type": "code",
   "execution_count": 291,
   "metadata": {},
   "outputs": [
    {
     "name": "stdout",
     "output_type": "stream",
     "text": [
      "Obtaining file:///Users/yesji/test_project_folder/project_spring_2020\n",
      "\u001b[31mERROR: Files/directories not found in /Users/yesji/test_project_folder/project_spring_2020\u001b[0m\n"
     ]
    }
   ],
   "source": [
    "!pip install -e ."
   ]
  },
  {
   "cell_type": "markdown",
   "metadata": {},
   "source": [
    "# Revisiting tests"
   ]
  },
  {
   "cell_type": "code",
   "execution_count": 292,
   "metadata": {},
   "outputs": [
    {
     "data": {
      "text/plain": [
       "'/Users/yesji/test_project_folder/project_spring_2020'"
      ]
     },
     "execution_count": 292,
     "metadata": {},
     "output_type": "execute_result"
    }
   ],
   "source": [
    "%pwd"
   ]
  },
  {
   "cell_type": "code",
   "execution_count": 293,
   "metadata": {},
   "outputs": [
    {
     "name": "stdout",
     "output_type": "stream",
     "text": [
      "\u001b[1m============================= test session starts ==============================\u001b[0m\n",
      "platform darwin -- Python 3.7.4, pytest-5.2.1, py-1.8.0, pluggy-0.13.0\n",
      "rootdir: /Users/yesji/test_project_folder/project_spring_2020\n",
      "plugins: arraydiff-0.3, doctestplus-0.4.0, openfiles-0.4.0, remotedata-0.3.2\n",
      "collected 0 items / 1 errors                                                   \u001b[0m\n",
      "\n",
      "==================================== ERRORS ====================================\n",
      "\u001b[31m\u001b[1m______________ ERROR collecting tests/motion_displacement_test.py ______________\u001b[0m\n",
      "\u001b[31mImportError while importing test module '/Users/yesji/test_project_folder/project_spring_2020/tests/motion_displacement_test.py'.\n",
      "Hint: make sure your test modules/packages have valid Python names.\n",
      "Traceback:\n",
      "tests/motion_displacement_test.py:1: in <module>\n",
      "    from Jeans_Package.compute_motion_displacement import *\n",
      "E   ModuleNotFoundError: No module named 'Jeans_Package'\u001b[0m\n",
      "!!!!!!!!!!!!!!!!!!! Interrupted: 1 errors during collection !!!!!!!!!!!!!!!!!!!!\n",
      "\u001b[31m\u001b[1m=============================== 1 error in 0.19s ===============================\u001b[0m\n"
     ]
    }
   ],
   "source": [
    "!pytest"
   ]
  },
  {
   "cell_type": "markdown",
   "metadata": {},
   "source": [
    "Let's once again try to run or tests from last week. We'll copy the files from last week and then see if we can run them."
   ]
  },
  {
   "cell_type": "code",
   "execution_count": 302,
   "metadata": {},
   "outputs": [
    {
     "ename": "TypeError",
     "evalue": "'module' object is not callable",
     "output_type": "error",
     "traceback": [
      "\u001b[0;31m---------------------------------------------------------------------------\u001b[0m",
      "\u001b[0;31mTypeError\u001b[0m                                 Traceback (most recent call last)",
      "\u001b[0;32m<ipython-input-302-f98e17f38408>\u001b[0m in \u001b[0;36m<module>\u001b[0;34m\u001b[0m\n\u001b[0;32m----> 1\u001b[0;31m \u001b[0;32mfor\u001b[0m \u001b[0mf\u001b[0m \u001b[0;32min\u001b[0m \u001b[0mpath\u001b[0m\u001b[0;34m(\u001b[0m\u001b[0;34m'tests'\u001b[0m\u001b[0;34m)\u001b[0m\u001b[0;34m.\u001b[0m\u001b[0mglob\u001b[0m\u001b[0;34m(\u001b[0m\u001b[0;34m'*.py'\u001b[0m\u001b[0;34m)\u001b[0m\u001b[0;34m:\u001b[0m\u001b[0;34m\u001b[0m\u001b[0;34m\u001b[0m\u001b[0m\n\u001b[0m\u001b[1;32m      2\u001b[0m     \u001b[0;34m(\u001b[0m\u001b[0mpath\u001b[0m\u001b[0;34m(\u001b[0m\u001b[0;34m\"tests\"\u001b[0m\u001b[0;34m)\u001b[0m \u001b[0;34m/\u001b[0m \u001b[0mf\u001b[0m\u001b[0;34m.\u001b[0m\u001b[0mname\u001b[0m\u001b[0;34m)\u001b[0m\u001b[0;34m.\u001b[0m\u001b[0mwrite_text\u001b[0m\u001b[0;34m(\u001b[0m\u001b[0mf\u001b[0m\u001b[0;34m.\u001b[0m\u001b[0mread_text\u001b[0m\u001b[0;34m(\u001b[0m\u001b[0;34m)\u001b[0m\u001b[0;34m)\u001b[0m\u001b[0;34m\u001b[0m\u001b[0;34m\u001b[0m\u001b[0m\n",
      "\u001b[0;31mTypeError\u001b[0m: 'module' object is not callable"
     ]
    }
   ],
   "source": [
    "for f in path('tests').glob('*.py'):\n",
    "    (path(\"tests\") / f.name).write_text(f.read_text())"
   ]
  },
  {
   "cell_type": "code",
   "execution_count": 303,
   "metadata": {},
   "outputs": [
    {
     "data": {
      "text/plain": [
       "'/Users/yesji/test_project_folder/project_spring_2020'"
      ]
     },
     "execution_count": 303,
     "metadata": {},
     "output_type": "execute_result"
    }
   ],
   "source": [
    "%pwd"
   ]
  },
  {
   "cell_type": "code",
   "execution_count": null,
   "metadata": {},
   "outputs": [],
   "source": []
  }
 ],
 "metadata": {
  "kernelspec": {
   "display_name": "Python 3",
   "language": "python",
   "name": "python3"
  },
  "language_info": {
   "codemirror_mode": {
    "name": "ipython",
    "version": 3
   },
   "file_extension": ".py",
   "mimetype": "text/x-python",
   "name": "python",
   "nbconvert_exporter": "python",
   "pygments_lexer": "ipython3",
   "version": "3.7.4"
  }
 },
 "nbformat": 4,
 "nbformat_minor": 4
}
