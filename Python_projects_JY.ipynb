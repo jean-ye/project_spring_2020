{
 "cells": [
  {
   "cell_type": "markdown",
   "metadata": {},
   "source": [
    "# Packaging with python"
   ]
  },
  {
   "cell_type": "code",
   "execution_count": 289,
   "metadata": {},
   "outputs": [],
   "source": [
    "# Please make sure to run the script below in the project_spring_2020 folder!"
   ]
  },
  {
   "cell_type": "code",
   "execution_count": 1,
   "metadata": {},
   "outputs": [
    {
     "data": {
      "text/plain": [
       "'/Users/yesji/test_project_folder/project_spring_2020'"
      ]
     },
     "execution_count": 1,
     "metadata": {},
     "output_type": "execute_result"
    }
   ],
   "source": [
    "%pwd"
   ]
  },
  {
   "cell_type": "code",
   "execution_count": 18,
   "metadata": {},
   "outputs": [],
   "source": [
    "#Importing relevant packages\n",
    "import pandas as pd\n",
    "import numpy as np \n",
    "from os import mkdir, chdir, getcwd, path, remove\n",
    "\n",
    "#Below are the code used to compute displacement mean for each participant \n",
    "def move_into_directory(participant):\n",
    "    \"\"\"Move into the directory where each participant's motion file is saved\"\"\"\n",
    "    path = \"Motion_files/\" + participant\n",
    "    chdir(path)\n",
    "    \n",
    "def set_motion_file():\n",
    "    \"\"\"Check to make sure motion file exist and set the motion file to be the one the script wants to operate on\"\"\"\n",
    "    if path.isfile('rp_s_full.txt'):\n",
    "        column_names = ['roll', 'pitch', 'yaw', 'z', 'x', 'y']\n",
    "        file = pd.read_csv('rp_s_full.txt', names = column_names, delim_whitespace = True)\n",
    "        df = pd.DataFrame(file, columns = column_names)\n",
    "    else:\n",
    "        print(\"no motion file found!\")\n",
    "    return df \n",
    "\n",
    "def compute_mean_for_each_column(motion_dataframe):\n",
    "    \"\"\"Compute means for each of the six motion parameters\"\"\"\n",
    "    means_separated = []\n",
    "    for i in range(6):\n",
    "        mean = motion_dataframe.iloc[:,i].mean()\n",
    "        means_separated.append(mean)\n",
    "    return means_separated\n",
    "\n",
    "def compute_mean_of_all_columns(means_separated):\n",
    "    \"\"\"Compute the mean of the six motion parameter averages\"\"\"\n",
    "    column_means = sum(means_separated)/6\n",
    "    return column_means\n",
    "\n",
    "def saving_out_text_files_with_averages(means,column_means):\n",
    "    \"\"\"Save the averages computed by the previous two functions in text files\"\"\"\n",
    "    np.savetxt('Mean_of_Each_Motion_Parameters', X = means)\n",
    "    np.savetxt('Mean_of_All_Motion_Parameters', X = [column_means])\n",
    "\n",
    "def main(participant):\n",
    "    \"\"\"This function puts all the previous functions in the script together\"\"\"\n",
    "    basedir = '/Users/yesji/test_project_folder/project_spring_2020'\n",
    "    chdir(basedir)\n",
    "    move_into_directory(participant)\n",
    "    motion_dataframe = set_motion_file()\n",
    "    means_separated = compute_mean_for_each_column(motion_dataframe)\n",
    "    column_means = compute_mean_of_all_columns(means_separated)\n",
    "    saving_out_text_files_with_averages(means_separated,column_means)\n",
    "    chdir(basedir)"
   ]
  },
  {
   "cell_type": "code",
   "execution_count": 19,
   "metadata": {},
   "outputs": [
    {
     "name": "stdout",
     "output_type": "stream",
     "text": [
      "/Users/yesji/test_project_folder/project_spring_2020\n"
     ]
    }
   ],
   "source": [
    "# Here is a block of code that will allow the user to compute motion displacement means for a list of participants \n",
    "%cd /Users/yesji/test_project_folder/project_spring_2020\n",
    "\n",
    "participant_list = []\n",
    "list_file = open(\"Participant_List.txt\",'r')\n",
    "for line in list_file.readlines():\n",
    "    participant_list.append(line.split()[0])\n",
    "#print(participant_list)\n",
    "    \n",
    "for participant in participant_list:\n",
    "    main(participant)"
   ]
  },
  {
   "cell_type": "code",
   "execution_count": 4,
   "metadata": {},
   "outputs": [
    {
     "name": "stdout",
     "output_type": "stream",
     "text": [
      "\u001b[1m============================= test session starts ==============================\u001b[0m\n",
      "platform darwin -- Python 3.7.4, pytest-5.2.1, py-1.8.0, pluggy-0.13.0\n",
      "rootdir: /Users/yesji/test_project_folder/project_spring_2020\n",
      "plugins: arraydiff-0.3, doctestplus-0.4.0, openfiles-0.4.0, remotedata-0.3.2\n",
      "collected 0 items / 1 errors                                                   \u001b[0m\n",
      "\n",
      "==================================== ERRORS ====================================\n",
      "\u001b[31m\u001b[1m______________ ERROR collecting tests/motion_displacement_test.py ______________\u001b[0m\n",
      "\u001b[31mImportError while importing test module '/Users/yesji/test_project_folder/project_spring_2020/tests/motion_displacement_test.py'.\n",
      "Hint: make sure your test modules/packages have valid Python names.\n",
      "Traceback:\n",
      "tests/motion_displacement_test.py:1: in <module>\n",
      "    from Jeans_Package.compute_motion_displacement import *\n",
      "E   ModuleNotFoundError: No module named 'Jeans_Package'\u001b[0m\n",
      "!!!!!!!!!!!!!!!!!!! Interrupted: 1 errors during collection !!!!!!!!!!!!!!!!!!!!\n",
      "\u001b[31m\u001b[1m=============================== 1 error in 0.19s ===============================\u001b[0m\n"
     ]
    }
   ],
   "source": [
    "!pytest"
   ]
  },
  {
   "cell_type": "code",
   "execution_count": null,
   "metadata": {},
   "outputs": [],
   "source": []
  },
  {
   "cell_type": "code",
   "execution_count": null,
   "metadata": {},
   "outputs": [],
   "source": []
  }
 ],
 "metadata": {
  "kernelspec": {
   "display_name": "Python 3",
   "language": "python",
   "name": "python3"
  },
  "language_info": {
   "codemirror_mode": {
    "name": "ipython",
    "version": 3
   },
   "file_extension": ".py",
   "mimetype": "text/x-python",
   "name": "python",
   "nbconvert_exporter": "python",
   "pygments_lexer": "ipython3",
   "version": "3.7.4"
  }
 },
 "nbformat": 4,
 "nbformat_minor": 4
}
